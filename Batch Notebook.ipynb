{
 "cells": [
  {
   "cell_type": "code",
   "execution_count": 1,
   "metadata": {},
   "outputs": [],
   "source": [
    "# misc-1\n",
    "w1 = { \n",
    "    'title': \"Year 4: Miscellaneous Wordsearch-1\", \n",
    "    'file_prefix': \"misc-1-\",\n",
    "    'wordlist': ['irregular','irresistable','irreparable','irresponsible','irreversible',\n",
    "               'turned','walked','write','woken','almost', 'improper','immortal','immature',\n",
    "               'impolite','impatient','much','never','only','second','today']\n",
    "}\n",
    "\n",
    "# shun-1\n",
    "w2 = { \n",
    "    'title': \"Year 4: 'Shun' words Wordsearch-1\",\n",
    "    'file_prefix': \"shun-1-\",\n",
    "    'wordlist': ['nation','operation','imagination','organisation','position','pollution',\n",
    "               'solution','attraction','correction','fiction','construction', 'introduction',\n",
    "               'addition','attention','protection','selection','tradition','duration','location','ambition']\n",
    "}\n",
    "\n",
    "# shun-2\n",
    "w3 = {\n",
    "    'title': \"Year 4: 'Shun' words Wordsearch-2\", \n",
    "    'file_prefix': \"shun-1-\",\n",
    "    'wordlist': ['mission', 'discussion', 'expression', 'confession', 'permission', 'admission', \n",
    "               'possession', 'musician', 'magician', 'electrician', 'politician', 'mathematician', \n",
    "               'comprehension', 'injection', 'action', 'invention', 'extension', 'tension', \n",
    "               'confusion', 'explosion']\n",
    "}\n",
    "\n",
    "# sure-1\n",
    "w4 = {\n",
    "    'title': \"Year 4: 'Sure / Ture' words Wordsearch-1\",\n",
    "    'file_prefix': \"sure-1-\",\n",
    "    'wordlist': ['treasure','pleasure','measure','exposure','ensure','measurement',\n",
    "               'enclosure','surely','closure','leisure',\n",
    "               'puncture','departure','capture','sculpture','structure',\n",
    "               'creature','adventure','gesture','furniture', 'nurture']\n",
    "}\n",
    "\n",
    "batch = [w1, w2, w3, w4]"
   ]
  },
  {
   "cell_type": "code",
   "execution_count": 2,
   "metadata": {},
   "outputs": [],
   "source": [
    "import wordsearch as ws"
   ]
  },
  {
   "cell_type": "code",
   "execution_count": 3,
   "metadata": {},
   "outputs": [
    {
     "name": "stdout",
     "output_type": "stream",
     "text": [
      "{'title': 'Year 4: Miscellaneous Wordsearch-1', 'file_prefix': 'misc-1-', 'wordlist': ['irregular', 'irresistable', 'irreparable', 'irresponsible', 'irreversible', 'turned', 'walked', 'write', 'woken', 'almost', 'improper', 'immortal', 'immature', 'impolite', 'impatient', 'much', 'never', 'only', 'second', 'today']}\n",
      "{'title': \"Year 4: 'Shun' words Wordsearch-1\", 'file_prefix': 'shun-1-', 'wordlist': ['nation', 'operation', 'imagination', 'organisation', 'position', 'pollution', 'solution', 'attraction', 'correction', 'fiction', 'construction', 'introduction', 'addition', 'attention', 'protection', 'selection', 'tradition', 'duration', 'location', 'ambition']}\n",
      "{'title': \"Year 4: 'Shun' words Wordsearch-2\", 'file_prefix': 'shun-1-', 'wordlist': ['mission', 'discussion', 'expression', 'confession', 'permission', 'admission', 'possession', 'musician', 'magician', 'electrician', 'politician', 'mathematician', 'comprehension', 'injection', 'action', 'invention', 'extension', 'tension', 'confusion', 'explosion']}\n",
      "{'title': \"Year 4: 'Sure / Ture' words Wordsearch-1\", 'file_prefix': 'sure-1-', 'wordlist': ['treasure', 'pleasure', 'measure', 'exposure', 'ensure', 'measurement', 'enclosure', 'surely', 'closure', 'leisure', 'puncture', 'departure', 'capture', 'sculpture', 'structure', 'creature', 'adventure', 'gesture', 'furniture', 'nurture']}\n"
     ]
    }
   ],
   "source": [
    "ws.make_worksearch_batch(batch)"
   ]
  },
  {
   "cell_type": "code",
   "execution_count": 4,
   "metadata": {},
   "outputs": [],
   "source": [
    "from IPython.display import FileLink, HTML"
   ]
  },
  {
   "cell_type": "code",
   "execution_count": 5,
   "metadata": {},
   "outputs": [
    {
     "name": "stdout",
     "output_type": "stream",
     "text": [
      "README.md           misc-1--Hard.html   shun-1--Medium.html sure-1-_answers.txt\r\n",
      "Untitled.ipynb      misc-1--Medium.html shun-1-_answers.txt wordsearch.py\r\n",
      "Wordsearch.ipynb    misc-1-_answers.txt sure-1--Easy.html\r\n",
      "\u001b[34m__pycache__\u001b[m\u001b[m         shun-1--Easy.html   sure-1--Hard.html\r\n",
      "misc-1--Easy.html   shun-1--Hard.html   sure-1--Medium.html\r\n"
     ]
    }
   ],
   "source": [
    "!ls"
   ]
  },
  {
   "cell_type": "code",
   "execution_count": 6,
   "metadata": {},
   "outputs": [],
   "source": [
    "!open ./"
   ]
  },
  {
   "cell_type": "code",
   "execution_count": null,
   "metadata": {},
   "outputs": [],
   "source": []
  }
 ],
 "metadata": {
  "kernelspec": {
   "display_name": "Python 3",
   "language": "python",
   "name": "python3"
  },
  "language_info": {
   "codemirror_mode": {
    "name": "ipython",
    "version": 3
   },
   "file_extension": ".py",
   "mimetype": "text/x-python",
   "name": "python",
   "nbconvert_exporter": "python",
   "pygments_lexer": "ipython3",
   "version": "3.7.9"
  }
 },
 "nbformat": 4,
 "nbformat_minor": 4
}
