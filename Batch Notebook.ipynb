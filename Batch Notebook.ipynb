{
 "cells": [
  {
   "cell_type": "code",
   "execution_count": 1,
   "metadata": {},
   "outputs": [],
   "source": [
    "# misc-1\n",
    "w1 = { \n",
    "    'title': \"Year 4: Miscellaneous-1\", \n",
    "    'file_prefix': \"misc-1\",\n",
    "    'wordlist': ['irregular','irresistible','irreparable','irresponsible','irreversible',\n",
    "               'turned','walked','write','woken','almost', 'improper','immortal','immature',\n",
    "               'impolite','impatient','much','never','only','second','today']\n",
    "}\n",
    "\n",
    "# shun-1\n",
    "w2 = { \n",
    "    'title': \"Year 4: Shun-1\",\n",
    "    'file_prefix': \"shun-1\",\n",
    "    'wordlist': ['nation','operation','imagination','organisation','position','pollution',\n",
    "               'solution','attraction','correction','fiction','construction', 'introduction',\n",
    "               'addition','attention','protection','selection','tradition','duration','location','ambition']\n",
    "}\n",
    "\n",
    "# shun-2\n",
    "w3 = {\n",
    "    'title': \"Year 4: Shun-2\", \n",
    "    'file_prefix': \"shun-1\",\n",
    "    'wordlist': ['mission', 'discussion', 'expression', 'confession', 'permission', 'admission', \n",
    "               'possession', 'musician', 'magician', 'electrician', 'politician', 'mathematician', \n",
    "               'comprehension', 'injection', 'action', 'invention', 'extension', 'tension', \n",
    "               'confusion', 'explosion']\n",
    "}\n",
    "\n",
    "# sure-1\n",
    "w4 = {\n",
    "    'title': \"Year 4: Sure/Ture-1\",\n",
    "    'file_prefix': \"sure-1\",\n",
    "    'wordlist': ['treasure','pleasure','measure','exposure','ensure','measurement',\n",
    "               'enclosure','surely','closure','leisure',\n",
    "               'puncture','departure','capture','sculpture','structure',\n",
    "               'creature','adventure','gesture','furniture', 'nurture']\n",
    "}\n",
    "\n",
    "# bi and tri-1\n",
    "w5 = {\n",
    "    'title': \"Year 4: Bi/Tri-1\",\n",
    "    'file_prefix': \"bitri-1\",\n",
    "    'wordlist': ['biscuit','triangle','triplets','billion','trillion','bisect',\n",
    "                 'bike','triceps','bilingual','biceps','tripod','trilogy','biography',\n",
    "                 'triple','biology','biplane','trio','bikini','trilingual','triplicate']\n",
    "}\n",
    "\n",
    "# Homophones-1\n",
    "w6 = {\n",
    "    'title': \"Year 4: Homophones-1\",\n",
    "    'file_prefix': \"homophone-1\",\n",
    "    'wordlist': ['peace','piece','main','mane','night','knight','knew','new','which',\n",
    "                'witch','flower','flour','sea','see','here','hear','bear','bare',\n",
    "                'right','write']\n",
    "}\n",
    "\n",
    "# Homophones-2\n",
    "w7 = {\n",
    "    'title': \"Year 4: Homophones-2\",\n",
    "    'file_prefix': \"homophone-2\",\n",
    "    'wordlist': ['cell','sell','flour','flower','here','hear','idol','idle','poor',\n",
    "                 'pour','right','write','sea','see','sole','soul','tail','tail', \n",
    "                 'hear', 'here']\n",
    "}\n",
    "\n",
    "# NegativePrefixes-1\n",
    "w8 = {'title': \"Year 4: 'Negative Prefixes-1\",\n",
    "    'file_prefix': \"negpre-1\",\n",
    "    'wordlist': \n",
    "        ['illegal','immature','immortal','impossible','impatient','imperfect','irregular',\n",
    "         'irrelevant','irresponsible','inaccurate','incomplete','illegible','illogical','inactive',\n",
    "         'inactive','inaudible','invisible','incorrect','irreplaceable','irrational']\n",
    "     }\n",
    "\n",
    "# ScWords-1\n",
    "w9 = {'title': \"Year 4: 'Sc Words-1\",\n",
    "    'file_prefix': \"sc-1\",\n",
    "    'wordlist':  ['science','scene','discipline','fascinate','crescent','scissors',\n",
    "                  'ascend','descend','scenery','scientist','scimitar','scented','ascent',\n",
    "                  'descent','discern','discipline','oscillate','ascertain','muscle',\n",
    "                  'miscellaneous']\n",
    "     }\n",
    "\n",
    "batch = [w1, w2, w3, w4, w5, w6, w7, w8]"
   ]
  },
  {
   "cell_type": "code",
   "execution_count": 2,
   "metadata": {},
   "outputs": [],
   "source": [
    "import wordsearch as ws"
   ]
  },
  {
   "cell_type": "code",
   "execution_count": 3,
   "metadata": {},
   "outputs": [
    {
     "name": "stdout",
     "output_type": "stream",
     "text": [
      "{'title': 'Year 4: Miscellaneous-1', 'file_prefix': 'misc-1', 'wordlist': ['irregular', 'irresistible', 'irreparable', 'irresponsible', 'irreversible', 'turned', 'walked', 'write', 'woken', 'almost', 'improper', 'immortal', 'immature', 'impolite', 'impatient', 'much', 'never', 'only', 'second', 'today']}\n",
      "{'title': 'Year 4: Shun-1', 'file_prefix': 'shun-1', 'wordlist': ['nation', 'operation', 'imagination', 'organisation', 'position', 'pollution', 'solution', 'attraction', 'correction', 'fiction', 'construction', 'introduction', 'addition', 'attention', 'protection', 'selection', 'tradition', 'duration', 'location', 'ambition']}\n",
      "{'title': 'Year 4: Shun-2', 'file_prefix': 'shun-1', 'wordlist': ['mission', 'discussion', 'expression', 'confession', 'permission', 'admission', 'possession', 'musician', 'magician', 'electrician', 'politician', 'mathematician', 'comprehension', 'injection', 'action', 'invention', 'extension', 'tension', 'confusion', 'explosion']}\n",
      "{'title': 'Year 4: Sure/Ture-1', 'file_prefix': 'sure-1', 'wordlist': ['treasure', 'pleasure', 'measure', 'exposure', 'ensure', 'measurement', 'enclosure', 'surely', 'closure', 'leisure', 'puncture', 'departure', 'capture', 'sculpture', 'structure', 'creature', 'adventure', 'gesture', 'furniture', 'nurture']}\n",
      "{'title': 'Year 4: Bi/Tri-1', 'file_prefix': 'bitri-1', 'wordlist': ['biscuit', 'triangle', 'triplets', 'billion', 'trillion', 'bisect', 'bike', 'triceps', 'bilingual', 'biceps', 'tripod', 'trilogy', 'biography', 'triple', 'biology', 'biplane', 'trio', 'bikini', 'trilingual', 'triplicate']}\n",
      "{'title': 'Year 4: Homophones-1', 'file_prefix': 'homophone-1', 'wordlist': ['peace', 'piece', 'main', 'mane', 'night', 'knight', 'knew', 'new', 'which', 'witch', 'flower', 'flour', 'sea', 'see', 'here', 'hear', 'bear', 'bare', 'right', 'write']}\n",
      "{'title': 'Year 4: Homophones-2', 'file_prefix': 'homophone-2', 'wordlist': ['cell', 'sell', 'flour', 'flower', 'here', 'hear', 'idol', 'idle', 'poor', 'pour', 'right', 'write', 'sea', 'see', 'sole', 'soul', 'tail', 'tail', 'hear', 'here']}\n",
      "{'title': \"Year 4: 'Negative Prefixes-1\", 'file_prefix': 'negpre-1', 'wordlist': ['illegal', 'immature', 'immortal', 'impossible', 'impatient', 'imperfect', 'irregular', 'irrelevant', 'irresponsible', 'inaccurate', 'incomplete', 'illegible', 'illogical', 'inactive', 'inactive', 'inaudible', 'invisible', 'incorrect', 'irreplaceable', 'irrational']}\n"
     ]
    }
   ],
   "source": [
    "ws.make_worksearch_batch(batch)"
   ]
  },
  {
   "cell_type": "code",
   "execution_count": 4,
   "metadata": {},
   "outputs": [],
   "source": [
    "from IPython.display import FileLink, HTML"
   ]
  },
  {
   "cell_type": "code",
   "execution_count": 5,
   "metadata": {},
   "outputs": [
    {
     "name": "stdout",
     "output_type": "stream",
     "text": [
      "Batch Notebook.ipynb    homophone-2-Hard.html   \u001b[34mset3\u001b[m\u001b[m\r\n",
      "README.md               homophone-2-Medium.html \u001b[34mset4\u001b[m\u001b[m\r\n",
      "Wordsearch.ipynb        homophone-2_answers.txt \u001b[34mset5\u001b[m\u001b[m\r\n",
      "\u001b[34m__pycache__\u001b[m\u001b[m             misc-1-Easy.html        shun-1-Easy.html\r\n",
      "bitri-1-Easy.html       misc-1-Hard.html        shun-1-Hard.html\r\n",
      "bitri-1-Hard.html       misc-1-Medium.html      shun-1-Medium.html\r\n",
      "bitri-1-Medium.html     misc-1_answers.txt      shun-1_answers.txt\r\n",
      "bitri-1_answers.txt     negpre-1-Easy.html      style.html\r\n",
      "homophone-1-Easy.html   negpre-1-Hard.html      sure-1-Easy.html\r\n",
      "homophone-1-Hard.html   negpre-1-Medium.html    sure-1-Hard.html\r\n",
      "homophone-1-Medium.html negpre-1_answers.txt    sure-1-Medium.html\r\n",
      "homophone-1_answers.txt \u001b[34mset1\u001b[m\u001b[m                    sure-1_answers.txt\r\n",
      "homophone-2-Easy.html   \u001b[34mset2\u001b[m\u001b[m                    wordsearch.py\r\n"
     ]
    }
   ],
   "source": [
    "!ls"
   ]
  },
  {
   "cell_type": "code",
   "execution_count": 6,
   "metadata": {},
   "outputs": [],
   "source": [
    "!open ./"
   ]
  },
  {
   "cell_type": "code",
   "execution_count": null,
   "metadata": {},
   "outputs": [],
   "source": []
  }
 ],
 "metadata": {
  "kernelspec": {
   "display_name": "Python 3",
   "language": "python",
   "name": "python3"
  },
  "language_info": {
   "codemirror_mode": {
    "name": "ipython",
    "version": 3
   },
   "file_extension": ".py",
   "mimetype": "text/x-python",
   "name": "python",
   "nbconvert_exporter": "python",
   "pygments_lexer": "ipython3",
   "version": "3.7.9"
  }
 },
 "nbformat": 4,
 "nbformat_minor": 4
}
