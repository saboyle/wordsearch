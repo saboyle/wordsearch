{
 "cells": [
  {
   "cell_type": "code",
   "execution_count": 1,
   "metadata": {},
   "outputs": [],
   "source": [
    "import wordsearch as ws\n",
    "from IPython.display import HTML, display, FileLink\n",
    "\n",
    "%load_ext autoreload\n",
    "%autoreload 2"
   ]
  },
  {
   "cell_type": "code",
   "execution_count": 2,
   "metadata": {},
   "outputs": [],
   "source": [
    "wordlist = ['camel','tunnel','squirrel','travel','towel','tinsel','bagel','hazel','vowel','jewel','cry','fly','dry','try','reply','sly','shy','terrify','sky','multiply']"
   ]
  },
  {
   "cell_type": "code",
   "execution_count": 3,
   "metadata": {},
   "outputs": [],
   "source": [
    "ws.make_wordsearch_pack(wordlist, \"11th December 2020: Spelling Wordsearch \")"
   ]
  },
  {
   "cell_type": "code",
   "execution_count": 8,
   "metadata": {},
   "outputs": [
    {
     "data": {
      "text/html": [
       "<a href='Easy.html' target='_blank'>Easy.html</a><br>"
      ],
      "text/plain": [
       "C:\\Users\\boylesa\\Desktop\\Wordsearch\\Easy.html"
      ]
     },
     "metadata": {},
     "output_type": "display_data"
    }
   ],
   "source": [
    "display(FileLink(\"Easy.html\")) "
   ]
  },
  {
   "cell_type": "code",
   "execution_count": 9,
   "metadata": {},
   "outputs": [
    {
     "data": {
      "text/html": [
       "<a href='Medium.html' target='_blank'>Medium.html</a><br>"
      ],
      "text/plain": [
       "C:\\Users\\boylesa\\Desktop\\Wordsearch\\Medium.html"
      ]
     },
     "metadata": {},
     "output_type": "display_data"
    }
   ],
   "source": [
    "display(FileLink(\"Medium.html\"))"
   ]
  },
  {
   "cell_type": "code",
   "execution_count": 10,
   "metadata": {},
   "outputs": [
    {
     "data": {
      "text/html": [
       "<a href='Hard.html' target='_blank'>Hard.html</a><br>"
      ],
      "text/plain": [
       "C:\\Users\\boylesa\\Desktop\\Wordsearch\\Hard.html"
      ]
     },
     "metadata": {},
     "output_type": "display_data"
    }
   ],
   "source": [
    "display(FileLink(\"Hard.html\"))"
   ]
  },
  {
   "cell_type": "code",
   "execution_count": 7,
   "metadata": {},
   "outputs": [
    {
     "data": {
      "text/html": [
       "<a href='answers.txt' target='_blank'>answers.txt</a><br>"
      ],
      "text/plain": [
       "C:\\Users\\boylesa\\Desktop\\Wordsearch\\answers.txt"
      ]
     },
     "metadata": {},
     "output_type": "display_data"
    }
   ],
   "source": [
    "display(FileLink(\"answers.txt\"))"
   ]
  }
 ],
 "metadata": {
  "kernelspec": {
   "display_name": "Python 3",
   "language": "python",
   "name": "python3"
  },
  "language_info": {
   "codemirror_mode": {
    "name": "ipython",
    "version": 3
   },
   "file_extension": ".py",
   "mimetype": "text/x-python",
   "name": "python",
   "nbconvert_exporter": "python",
   "pygments_lexer": "ipython3",
   "version": "3.7.3"
  }
 },
 "nbformat": 4,
 "nbformat_minor": 4
}
