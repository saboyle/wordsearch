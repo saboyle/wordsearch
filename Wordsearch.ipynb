{
 "cells": [
  {
   "cell_type": "markdown",
   "metadata": {},
   "source": [
    "# Automated wordsearch generation notebook\n",
    "\n",
    "Designed to auto create wordsearch puzzles to help with KS1 and KS2 spelling activities.\n",
    "\n",
    "* To run select Kernel, Restart and Run All from the menu.  Alternatively you can step through each cell using the Run toolbar button.  Once created links are displayed for Easy, Medium, Difficult puzzles along with an answer file.\n",
    "\n",
    "* To adjust the words included update the Python 'wordlist' below and then re-run the ws.make_wordsearch_pack cell.\n",
    "\n",
    "The puzzles can be customized easily.  See wordsearch.py for more details (https://github.com/saboyle/wordsearch).\n",
    "\n",
    "The produced HTML should be easy to copy paste into Excel for formatting and export to pdf.  Alternatively it could easily styled using CSS etc if needed.\n",
    "\n",
    "Feel free to use but no warranty, liability etc.  If there are any issues, change requests etc please let me know through the github issue tracker (or get in touch directly if you know me).\n",
    "\n",
    "https://github.com/saboyle/wordsearch/issues"
   ]
  },
  {
   "cell_type": "code",
   "execution_count": 12,
   "metadata": {},
   "outputs": [
    {
     "name": "stdout",
     "output_type": "stream",
     "text": [
      "Requirement already satisfied: numpy in c:\\users\\boylesa\\anaconda3\\lib\\site-packages (1.19.2)\n"
     ]
    }
   ],
   "source": [
    "!pip install numpy"
   ]
  },
  {
   "cell_type": "code",
   "execution_count": 1,
   "metadata": {},
   "outputs": [],
   "source": [
    "import wordsearch as ws\n",
    "from IPython.display import HTML, display, FileLink\n",
    "\n",
    "%load_ext autoreload\n",
    "%autoreload 2"
   ]
  },
  {
   "cell_type": "code",
   "execution_count": 2,
   "metadata": {},
   "outputs": [],
   "source": [
    "wordlist = ['camel','tunnel','squirrel','travel','towel','tinsel','bagel','hazel','vowel','jewel','cry','fly','dry','try','reply','sly','shy','terrify','sky','multiply']"
   ]
  },
  {
   "cell_type": "code",
   "execution_count": 3,
   "metadata": {},
   "outputs": [],
   "source": [
    "ws.make_wordsearch_pack(wordlist, \"11th December 2020: Spelling Wordsearch \")"
   ]
  },
  {
   "cell_type": "code",
   "execution_count": 8,
   "metadata": {},
   "outputs": [
    {
     "data": {
      "text/html": [
       "<a href='Easy.html' target='_blank'>Easy.html</a><br>"
      ],
      "text/plain": [
       "C:\\Users\\boylesa\\Desktop\\Wordsearch\\Easy.html"
      ]
     },
     "metadata": {},
     "output_type": "display_data"
    }
   ],
   "source": [
    "display(FileLink(\"-Easy.html\")) "
   ]
  },
  {
   "cell_type": "code",
   "execution_count": 9,
   "metadata": {},
   "outputs": [
    {
     "data": {
      "text/html": [
       "<a href='Medium.html' target='_blank'>Medium.html</a><br>"
      ],
      "text/plain": [
       "C:\\Users\\boylesa\\Desktop\\Wordsearch\\Medium.html"
      ]
     },
     "metadata": {},
     "output_type": "display_data"
    }
   ],
   "source": [
    "display(FileLink(\"-Medium.html\"))"
   ]
  },
  {
   "cell_type": "code",
   "execution_count": 10,
   "metadata": {},
   "outputs": [
    {
     "data": {
      "text/html": [
       "<a href='Hard.html' target='_blank'>Hard.html</a><br>"
      ],
      "text/plain": [
       "C:\\Users\\boylesa\\Desktop\\Wordsearch\\Hard.html"
      ]
     },
     "metadata": {},
     "output_type": "display_data"
    }
   ],
   "source": [
    "display(FileLink(\"-Hard.html\"))"
   ]
  },
  {
   "cell_type": "code",
   "execution_count": 7,
   "metadata": {},
   "outputs": [
    {
     "data": {
      "text/html": [
       "<a href='answers.txt' target='_blank'>answers.txt</a><br>"
      ],
      "text/plain": [
       "C:\\Users\\boylesa\\Desktop\\Wordsearch\\answers.txt"
      ]
     },
     "metadata": {},
     "output_type": "display_data"
    }
   ],
   "source": [
    "display(FileLink(\"answers.txt\"))"
   ]
  }
 ],
 "metadata": {
  "kernelspec": {
   "display_name": "Python 3",
   "language": "python",
   "name": "python3"
  },
  "language_info": {
   "codemirror_mode": {
    "name": "ipython",
    "version": 3
   },
   "file_extension": ".py",
   "mimetype": "text/x-python",
   "name": "python",
   "nbconvert_exporter": "python",
   "pygments_lexer": "ipython3",
   "version": "3.7.9"
  }
 },
 "nbformat": 4,
 "nbformat_minor": 4
}
